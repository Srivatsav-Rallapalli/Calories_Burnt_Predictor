{
 "cells": [
  {
   "cell_type": "code",
   "execution_count": 1,
   "id": "c8578398-ee74-4285-8076-d87a1ed2fbfb",
   "metadata": {},
   "outputs": [],
   "source": [
    "import pandas as pd\n",
    "\n",
    "import warnings\n",
    "warnings.simplefilter('ignore')"
   ]
  },
  {
   "cell_type": "code",
   "execution_count": 2,
   "id": "9450631f-8cd6-4e91-b2ad-c1f1057999e1",
   "metadata": {},
   "outputs": [
    {
     "data": {
      "text/html": [
       "<div>\n",
       "<style scoped>\n",
       "    .dataframe tbody tr th:only-of-type {\n",
       "        vertical-align: middle;\n",
       "    }\n",
       "\n",
       "    .dataframe tbody tr th {\n",
       "        vertical-align: top;\n",
       "    }\n",
       "\n",
       "    .dataframe thead th {\n",
       "        text-align: right;\n",
       "    }\n",
       "</style>\n",
       "<table border=\"1\" class=\"dataframe\">\n",
       "  <thead>\n",
       "    <tr style=\"text-align: right;\">\n",
       "      <th></th>\n",
       "      <th>Age</th>\n",
       "      <th>Heart_Rate</th>\n",
       "      <th>Calories</th>\n",
       "      <th>Gender_male</th>\n",
       "    </tr>\n",
       "  </thead>\n",
       "  <tbody>\n",
       "    <tr>\n",
       "      <th>0</th>\n",
       "      <td>68</td>\n",
       "      <td>105.0</td>\n",
       "      <td>231.0</td>\n",
       "      <td>1</td>\n",
       "    </tr>\n",
       "    <tr>\n",
       "      <th>1</th>\n",
       "      <td>20</td>\n",
       "      <td>94.0</td>\n",
       "      <td>66.0</td>\n",
       "      <td>0</td>\n",
       "    </tr>\n",
       "    <tr>\n",
       "      <th>2</th>\n",
       "      <td>69</td>\n",
       "      <td>88.0</td>\n",
       "      <td>26.0</td>\n",
       "      <td>1</td>\n",
       "    </tr>\n",
       "    <tr>\n",
       "      <th>3</th>\n",
       "      <td>34</td>\n",
       "      <td>100.0</td>\n",
       "      <td>71.0</td>\n",
       "      <td>0</td>\n",
       "    </tr>\n",
       "    <tr>\n",
       "      <th>4</th>\n",
       "      <td>27</td>\n",
       "      <td>81.0</td>\n",
       "      <td>35.0</td>\n",
       "      <td>0</td>\n",
       "    </tr>\n",
       "    <tr>\n",
       "      <th>...</th>\n",
       "      <td>...</td>\n",
       "      <td>...</td>\n",
       "      <td>...</td>\n",
       "      <td>...</td>\n",
       "    </tr>\n",
       "    <tr>\n",
       "      <th>14995</th>\n",
       "      <td>20</td>\n",
       "      <td>92.0</td>\n",
       "      <td>45.0</td>\n",
       "      <td>0</td>\n",
       "    </tr>\n",
       "    <tr>\n",
       "      <th>14996</th>\n",
       "      <td>27</td>\n",
       "      <td>85.0</td>\n",
       "      <td>23.0</td>\n",
       "      <td>0</td>\n",
       "    </tr>\n",
       "    <tr>\n",
       "      <th>14997</th>\n",
       "      <td>43</td>\n",
       "      <td>90.0</td>\n",
       "      <td>75.0</td>\n",
       "      <td>0</td>\n",
       "    </tr>\n",
       "    <tr>\n",
       "      <th>14998</th>\n",
       "      <td>78</td>\n",
       "      <td>84.0</td>\n",
       "      <td>11.0</td>\n",
       "      <td>1</td>\n",
       "    </tr>\n",
       "    <tr>\n",
       "      <th>14999</th>\n",
       "      <td>63</td>\n",
       "      <td>92.0</td>\n",
       "      <td>98.0</td>\n",
       "      <td>1</td>\n",
       "    </tr>\n",
       "  </tbody>\n",
       "</table>\n",
       "<p>15000 rows × 4 columns</p>\n",
       "</div>"
      ],
      "text/plain": [
       "       Age  Heart_Rate  Calories  Gender_male\n",
       "0       68       105.0     231.0            1\n",
       "1       20        94.0      66.0            0\n",
       "2       69        88.0      26.0            1\n",
       "3       34       100.0      71.0            0\n",
       "4       27        81.0      35.0            0\n",
       "...    ...         ...       ...          ...\n",
       "14995   20        92.0      45.0            0\n",
       "14996   27        85.0      23.0            0\n",
       "14997   43        90.0      75.0            0\n",
       "14998   78        84.0      11.0            1\n",
       "14999   63        92.0      98.0            1\n",
       "\n",
       "[15000 rows x 4 columns]"
      ]
     },
     "execution_count": 2,
     "metadata": {},
     "output_type": "execute_result"
    }
   ],
   "source": [
    "# Importing the Dataset\n",
    "\n",
    "df = pd.read_csv(r'clean.csv')\n",
    "df"
   ]
  },
  {
   "cell_type": "code",
   "execution_count": 3,
   "id": "f7333aa1-c79c-4ca2-9b8b-cbe1968bf8b7",
   "metadata": {},
   "outputs": [],
   "source": [
    "# Seperating the Dependent and Independent variables.\n",
    "\n",
    "X = df.drop(columns=['Calories'])\n",
    "y = df['Calories']"
   ]
  },
  {
   "cell_type": "code",
   "execution_count": 4,
   "id": "fabeac68-f657-42cd-86e1-ccd2f5c7cd1f",
   "metadata": {},
   "outputs": [],
   "source": [
    "# Splitting the data into Train and Test\n",
    "from sklearn.model_selection import train_test_split\n",
    "\n",
    "x_train,x_test,y_train,y_test = train_test_split(X,y,random_state=42,train_size=0.8)"
   ]
  },
  {
   "cell_type": "code",
   "execution_count": 5,
   "id": "80af91fb-6a10-4f17-a744-9c6842cb3153",
   "metadata": {},
   "outputs": [
    {
     "data": {
      "text/plain": [
       "{'alpha': 1, 'l1_ratio': 1}"
      ]
     },
     "execution_count": 5,
     "metadata": {},
     "output_type": "execute_result"
    }
   ],
   "source": [
    "# Applying hyperParameter Tunning on ElasticNet Regression\n",
    "from sklearn.linear_model import ElasticNet\n",
    "from sklearn.model_selection import GridSearchCV\n",
    "\n",
    "estimator = ElasticNet()\n",
    "\n",
    "param_grid = {'alpha':list(range(1,40)),'l1_ratio':[0.1,0.25,0.5,0.75,1]}\n",
    "\n",
    "grid = GridSearchCV(estimator,param_grid,cv=5,scoring='neg_mean_squared_error')\n",
    "grid.fit(x_train,y_train)\n",
    "grid.best_params_"
   ]
  },
  {
   "cell_type": "code",
   "execution_count": 6,
   "id": "413e334b-b97d-43e0-8fa4-8bcb3a6962f5",
   "metadata": {},
   "outputs": [
    {
     "name": "stdout",
     "output_type": "stream",
     "text": [
      "Intercept value is : -489.59695718768694\n",
      "Coefficients are : [0.52222044 5.82748904 0.        ]\n"
     ]
    }
   ],
   "source": [
    "# Build the final model with alpha = 1 and l1_ratio = 1\n",
    "\n",
    "model = ElasticNet(alpha=1,l1_ratio=1)\n",
    "model.fit(x_train,y_train)\n",
    "\n",
    "print('Intercept value is :',model.intercept_)\n",
    "print('Coefficients are :',model.coef_)"
   ]
  },
  {
   "cell_type": "markdown",
   "id": "3b665a42-aab4-4f9c-b15f-f9edbbff0e94",
   "metadata": {},
   "source": [
    "- The Coefficient value of Gender_male columns is 0.\n",
    "- So, we should drop the column and rebuild the model."
   ]
  },
  {
   "cell_type": "code",
   "execution_count": 7,
   "id": "bb009131-ae51-440c-a2a7-45503b53d32b",
   "metadata": {},
   "outputs": [
    {
     "data": {
      "text/html": [
       "<div>\n",
       "<style scoped>\n",
       "    .dataframe tbody tr th:only-of-type {\n",
       "        vertical-align: middle;\n",
       "    }\n",
       "\n",
       "    .dataframe tbody tr th {\n",
       "        vertical-align: top;\n",
       "    }\n",
       "\n",
       "    .dataframe thead th {\n",
       "        text-align: right;\n",
       "    }\n",
       "</style>\n",
       "<table border=\"1\" class=\"dataframe\">\n",
       "  <thead>\n",
       "    <tr style=\"text-align: right;\">\n",
       "      <th></th>\n",
       "      <th>Age</th>\n",
       "      <th>Heart_Rate</th>\n",
       "      <th>Calories</th>\n",
       "    </tr>\n",
       "  </thead>\n",
       "  <tbody>\n",
       "    <tr>\n",
       "      <th>0</th>\n",
       "      <td>68</td>\n",
       "      <td>105.0</td>\n",
       "      <td>231.0</td>\n",
       "    </tr>\n",
       "    <tr>\n",
       "      <th>1</th>\n",
       "      <td>20</td>\n",
       "      <td>94.0</td>\n",
       "      <td>66.0</td>\n",
       "    </tr>\n",
       "    <tr>\n",
       "      <th>2</th>\n",
       "      <td>69</td>\n",
       "      <td>88.0</td>\n",
       "      <td>26.0</td>\n",
       "    </tr>\n",
       "    <tr>\n",
       "      <th>3</th>\n",
       "      <td>34</td>\n",
       "      <td>100.0</td>\n",
       "      <td>71.0</td>\n",
       "    </tr>\n",
       "    <tr>\n",
       "      <th>4</th>\n",
       "      <td>27</td>\n",
       "      <td>81.0</td>\n",
       "      <td>35.0</td>\n",
       "    </tr>\n",
       "    <tr>\n",
       "      <th>...</th>\n",
       "      <td>...</td>\n",
       "      <td>...</td>\n",
       "      <td>...</td>\n",
       "    </tr>\n",
       "    <tr>\n",
       "      <th>14995</th>\n",
       "      <td>20</td>\n",
       "      <td>92.0</td>\n",
       "      <td>45.0</td>\n",
       "    </tr>\n",
       "    <tr>\n",
       "      <th>14996</th>\n",
       "      <td>27</td>\n",
       "      <td>85.0</td>\n",
       "      <td>23.0</td>\n",
       "    </tr>\n",
       "    <tr>\n",
       "      <th>14997</th>\n",
       "      <td>43</td>\n",
       "      <td>90.0</td>\n",
       "      <td>75.0</td>\n",
       "    </tr>\n",
       "    <tr>\n",
       "      <th>14998</th>\n",
       "      <td>78</td>\n",
       "      <td>84.0</td>\n",
       "      <td>11.0</td>\n",
       "    </tr>\n",
       "    <tr>\n",
       "      <th>14999</th>\n",
       "      <td>63</td>\n",
       "      <td>92.0</td>\n",
       "      <td>98.0</td>\n",
       "    </tr>\n",
       "  </tbody>\n",
       "</table>\n",
       "<p>15000 rows × 3 columns</p>\n",
       "</div>"
      ],
      "text/plain": [
       "       Age  Heart_Rate  Calories\n",
       "0       68       105.0     231.0\n",
       "1       20        94.0      66.0\n",
       "2       69        88.0      26.0\n",
       "3       34       100.0      71.0\n",
       "4       27        81.0      35.0\n",
       "...    ...         ...       ...\n",
       "14995   20        92.0      45.0\n",
       "14996   27        85.0      23.0\n",
       "14997   43        90.0      75.0\n",
       "14998   78        84.0      11.0\n",
       "14999   63        92.0      98.0\n",
       "\n",
       "[15000 rows x 3 columns]"
      ]
     },
     "execution_count": 7,
     "metadata": {},
     "output_type": "execute_result"
    }
   ],
   "source": [
    "# Dropping the unnecessary columns\n",
    "\n",
    "df = df.drop(columns=['Gender_male'])\n",
    "df"
   ]
  },
  {
   "cell_type": "code",
   "execution_count": 8,
   "id": "7d390247-1af6-4291-a6e1-264c7b17d32f",
   "metadata": {},
   "outputs": [],
   "source": [
    "# Seperating the Dependent and Independent variables.\n",
    "\n",
    "X = df.drop(columns=['Calories'])\n",
    "y = df['Calories']"
   ]
  },
  {
   "cell_type": "code",
   "execution_count": 9,
   "id": "192db6b0-891a-4f48-9c1d-2b852d1e2b5f",
   "metadata": {},
   "outputs": [],
   "source": [
    "# Splitting the data into Train and Test\n",
    "from sklearn.model_selection import train_test_split\n",
    "\n",
    "x_train,x_test,y_train,y_test = train_test_split(X,y,random_state=42,train_size=0.8)"
   ]
  },
  {
   "cell_type": "code",
   "execution_count": 10,
   "id": "76c7441d-bc28-4c18-a625-54025f4b17c0",
   "metadata": {},
   "outputs": [
    {
     "name": "stdout",
     "output_type": "stream",
     "text": [
      "Intercept value is : -489.59695718768694\n",
      "Coefficients are : [0.52222044 5.82748904]\n"
     ]
    }
   ],
   "source": [
    "# Build the final model with alpha = 1 and l1_ratio = 1\n",
    "\n",
    "model = ElasticNet(alpha=1,l1_ratio=1)\n",
    "model.fit(x_train,y_train)\n",
    "\n",
    "print('Intercept value is :',model.intercept_)\n",
    "print('Coefficients are :',model.coef_)"
   ]
  },
  {
   "cell_type": "code",
   "execution_count": 11,
   "id": "cf58c1e4-79aa-4482-82e1-06238d4de4b8",
   "metadata": {},
   "outputs": [
    {
     "name": "stdout",
     "output_type": "stream",
     "text": [
      "Train r2 score is : 0.8258489106333575\n",
      "cross validation score is : 0.8252874404661774\n",
      "Test r2 score is : 0.8321805867315278\n"
     ]
    }
   ],
   "source": [
    "# Predicting on Train data\n",
    "ypred_train = model.predict(x_train)\n",
    "\n",
    "# Calculating Train r2 score and Cross Validation Score\n",
    "from sklearn.metrics import r2_score\n",
    "from sklearn.model_selection import cross_val_score\n",
    "\n",
    "print('Train r2 score is :',r2_score(y_train,ypred_train))\n",
    "print('cross validation score is :',cross_val_score(model,x_train,y_train,cv=5).mean())\n",
    "\n",
    "# Predicting onTest data\n",
    "ypred_test = model.predict(x_test)\n",
    "\n",
    "# Calculating the Test r2 score\n",
    "print('Test r2 score is :',r2_score(y_test,ypred_test))"
   ]
  },
  {
   "cell_type": "code",
   "execution_count": null,
   "id": "7420cd2f-f245-454a-bcb7-5424765970ab",
   "metadata": {},
   "outputs": [],
   "source": []
  }
 ],
 "metadata": {
  "kernelspec": {
   "display_name": "Python 3 (ipykernel)",
   "language": "python",
   "name": "python3"
  },
  "language_info": {
   "codemirror_mode": {
    "name": "ipython",
    "version": 3
   },
   "file_extension": ".py",
   "mimetype": "text/x-python",
   "name": "python",
   "nbconvert_exporter": "python",
   "pygments_lexer": "ipython3",
   "version": "3.12.7"
  }
 },
 "nbformat": 4,
 "nbformat_minor": 5
}
