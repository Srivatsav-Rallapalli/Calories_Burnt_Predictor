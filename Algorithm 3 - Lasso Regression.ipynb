{
 "cells": [
  {
   "cell_type": "code",
   "execution_count": 1,
   "id": "50c49c1f-7736-48bd-b5de-5e84e5568017",
   "metadata": {},
   "outputs": [],
   "source": [
    "import pandas as pd\n",
    "\n",
    "import warnings\n",
    "warnings.simplefilter('ignore')"
   ]
  },
  {
   "cell_type": "code",
   "execution_count": 2,
   "id": "47713048-9813-49d8-b67f-b63b7a01bbf4",
   "metadata": {},
   "outputs": [
    {
     "data": {
      "text/html": [
       "<div>\n",
       "<style scoped>\n",
       "    .dataframe tbody tr th:only-of-type {\n",
       "        vertical-align: middle;\n",
       "    }\n",
       "\n",
       "    .dataframe tbody tr th {\n",
       "        vertical-align: top;\n",
       "    }\n",
       "\n",
       "    .dataframe thead th {\n",
       "        text-align: right;\n",
       "    }\n",
       "</style>\n",
       "<table border=\"1\" class=\"dataframe\">\n",
       "  <thead>\n",
       "    <tr style=\"text-align: right;\">\n",
       "      <th></th>\n",
       "      <th>Age</th>\n",
       "      <th>Heart_Rate</th>\n",
       "      <th>Calories</th>\n",
       "      <th>Gender_male</th>\n",
       "    </tr>\n",
       "  </thead>\n",
       "  <tbody>\n",
       "    <tr>\n",
       "      <th>0</th>\n",
       "      <td>68</td>\n",
       "      <td>105.0</td>\n",
       "      <td>231.0</td>\n",
       "      <td>1</td>\n",
       "    </tr>\n",
       "    <tr>\n",
       "      <th>1</th>\n",
       "      <td>20</td>\n",
       "      <td>94.0</td>\n",
       "      <td>66.0</td>\n",
       "      <td>0</td>\n",
       "    </tr>\n",
       "    <tr>\n",
       "      <th>2</th>\n",
       "      <td>69</td>\n",
       "      <td>88.0</td>\n",
       "      <td>26.0</td>\n",
       "      <td>1</td>\n",
       "    </tr>\n",
       "    <tr>\n",
       "      <th>3</th>\n",
       "      <td>34</td>\n",
       "      <td>100.0</td>\n",
       "      <td>71.0</td>\n",
       "      <td>0</td>\n",
       "    </tr>\n",
       "    <tr>\n",
       "      <th>4</th>\n",
       "      <td>27</td>\n",
       "      <td>81.0</td>\n",
       "      <td>35.0</td>\n",
       "      <td>0</td>\n",
       "    </tr>\n",
       "    <tr>\n",
       "      <th>...</th>\n",
       "      <td>...</td>\n",
       "      <td>...</td>\n",
       "      <td>...</td>\n",
       "      <td>...</td>\n",
       "    </tr>\n",
       "    <tr>\n",
       "      <th>14995</th>\n",
       "      <td>20</td>\n",
       "      <td>92.0</td>\n",
       "      <td>45.0</td>\n",
       "      <td>0</td>\n",
       "    </tr>\n",
       "    <tr>\n",
       "      <th>14996</th>\n",
       "      <td>27</td>\n",
       "      <td>85.0</td>\n",
       "      <td>23.0</td>\n",
       "      <td>0</td>\n",
       "    </tr>\n",
       "    <tr>\n",
       "      <th>14997</th>\n",
       "      <td>43</td>\n",
       "      <td>90.0</td>\n",
       "      <td>75.0</td>\n",
       "      <td>0</td>\n",
       "    </tr>\n",
       "    <tr>\n",
       "      <th>14998</th>\n",
       "      <td>78</td>\n",
       "      <td>84.0</td>\n",
       "      <td>11.0</td>\n",
       "      <td>1</td>\n",
       "    </tr>\n",
       "    <tr>\n",
       "      <th>14999</th>\n",
       "      <td>63</td>\n",
       "      <td>92.0</td>\n",
       "      <td>98.0</td>\n",
       "      <td>1</td>\n",
       "    </tr>\n",
       "  </tbody>\n",
       "</table>\n",
       "<p>15000 rows × 4 columns</p>\n",
       "</div>"
      ],
      "text/plain": [
       "       Age  Heart_Rate  Calories  Gender_male\n",
       "0       68       105.0     231.0            1\n",
       "1       20        94.0      66.0            0\n",
       "2       69        88.0      26.0            1\n",
       "3       34       100.0      71.0            0\n",
       "4       27        81.0      35.0            0\n",
       "...    ...         ...       ...          ...\n",
       "14995   20        92.0      45.0            0\n",
       "14996   27        85.0      23.0            0\n",
       "14997   43        90.0      75.0            0\n",
       "14998   78        84.0      11.0            1\n",
       "14999   63        92.0      98.0            1\n",
       "\n",
       "[15000 rows x 4 columns]"
      ]
     },
     "execution_count": 2,
     "metadata": {},
     "output_type": "execute_result"
    }
   ],
   "source": [
    "# Importing the Dataset\n",
    "\n",
    "df = pd.read_csv(r'clean.csv')\n",
    "df"
   ]
  },
  {
   "cell_type": "code",
   "execution_count": 3,
   "id": "fd27aad7-9f05-4e59-9c58-99aae0110616",
   "metadata": {},
   "outputs": [],
   "source": [
    "# Seperating the Dependent and Independent variables.\n",
    "\n",
    "X = df.drop(columns=['Calories'])\n",
    "y = df['Calories']"
   ]
  },
  {
   "cell_type": "code",
   "execution_count": 4,
   "id": "b63c9b70-fa0b-4fe9-8361-a8598c8ad6e2",
   "metadata": {},
   "outputs": [],
   "source": [
    "# splitting the data into train and test\n",
    "from sklearn.model_selection import train_test_split\n",
    "\n",
    "x_train,x_test,y_train,y_test = train_test_split(X,y,random_state=42,train_size=0.8)"
   ]
  },
  {
   "cell_type": "code",
   "execution_count": 5,
   "id": "4543c314-4646-4477-bc0c-449e381bfa0d",
   "metadata": {},
   "outputs": [
    {
     "data": {
      "text/plain": [
       "{'alpha': 1}"
      ]
     },
     "execution_count": 5,
     "metadata": {},
     "output_type": "execute_result"
    }
   ],
   "source": [
    "# Apply Hyperparameter Tunning to determine alpha value.\n",
    "\n",
    "from sklearn.model_selection import GridSearchCV\n",
    "from sklearn.linear_model import Lasso\n",
    "\n",
    "estimator = Lasso()\n",
    "param_grid  = {'alpha':list(range(1,100))}\n",
    "\n",
    "grid = GridSearchCV(estimator,param_grid,cv=5,scoring='r2')\n",
    "grid.fit(x_train,y_train)\n",
    "grid.best_params_"
   ]
  },
  {
   "cell_type": "code",
   "execution_count": 6,
   "id": "9d7ef4cc-034e-4667-b1df-2b2d7736d9e9",
   "metadata": {},
   "outputs": [
    {
     "name": "stdout",
     "output_type": "stream",
     "text": [
      "Intercept is : -489.59695718768694\n",
      "Coefficients are : [0.52222044 5.82748904 0.        ]\n"
     ]
    }
   ],
   "source": [
    "# Build Lasso Regression with alpha = 1\n",
    "\n",
    "model = Lasso(alpha=1)\n",
    "model.fit(x_train,y_train)\n",
    "\n",
    "print('Intercept is :',model.intercept_)\n",
    "print('Coefficients are :',model.coef_)"
   ]
  },
  {
   "cell_type": "markdown",
   "id": "911e0867-4464-4e96-92d0-a635cc50c5b5",
   "metadata": {},
   "source": [
    "- The Coefficient of Gender_male column is 0, which means that column is not necessary for building the model.\n",
    "- So, we have to drop that column and build the final model with remaining variables."
   ]
  },
  {
   "cell_type": "code",
   "execution_count": 7,
   "id": "e6fe2fce-f3a6-4f85-95f6-789b46bd2e0f",
   "metadata": {},
   "outputs": [],
   "source": [
    "df = df.drop(columns=['Gender_male'])"
   ]
  },
  {
   "cell_type": "code",
   "execution_count": 8,
   "id": "b3e88c24-408f-4aba-b026-bc8bdb883b7a",
   "metadata": {},
   "outputs": [],
   "source": [
    "# Seperating the Dependent and Independent variables.\n",
    "\n",
    "X = df.drop(columns=['Calories'])\n",
    "y = df['Calories']"
   ]
  },
  {
   "cell_type": "code",
   "execution_count": 9,
   "id": "8fd5284c-4ace-4847-9bdd-3039382e060f",
   "metadata": {},
   "outputs": [],
   "source": [
    "# splitting the data into train and test\n",
    "from sklearn.model_selection import train_test_split\n",
    "\n",
    "x_train,x_test,y_train,y_test = train_test_split(X,y,random_state=39,train_size=0.8)"
   ]
  },
  {
   "cell_type": "code",
   "execution_count": 10,
   "id": "e36b3551-8022-48fa-9605-b13c21fcc2e7",
   "metadata": {},
   "outputs": [
    {
     "name": "stdout",
     "output_type": "stream",
     "text": [
      "Intercept is : -487.9893930766272\n",
      "Coefficients are : [0.53193453 5.80763862]\n"
     ]
    }
   ],
   "source": [
    "# Build Lasso Regression final model with alpha = 1\n",
    "\n",
    "model = Lasso(alpha=1)\n",
    "model.fit(x_train,y_train)\n",
    "\n",
    "print('Intercept is :',model.intercept_)\n",
    "print('Coefficients are :',model.coef_)"
   ]
  },
  {
   "cell_type": "code",
   "execution_count": 11,
   "id": "6ad73f48-c0c4-4fef-88ba-377f30a0cefa",
   "metadata": {},
   "outputs": [
    {
     "name": "stdout",
     "output_type": "stream",
     "text": [
      "Train r2 score is : 0.8285304435020524\n",
      "cross validation score is : 0.8281625511117519\n",
      "Test r2 score is : 0.8218548676005608\n"
     ]
    }
   ],
   "source": [
    "# predicting on the train data\n",
    "\n",
    "ypred_train = model.predict(x_train)\n",
    "\n",
    "# Calculating train r2 score and cross validation score\n",
    "from sklearn.metrics import r2_score\n",
    "from sklearn.model_selection import cross_val_score\n",
    "\n",
    "print('Train r2 score is :',r2_score(y_train,ypred_train))\n",
    "print('cross validation score is :',cross_val_score(model,x_train,y_train,cv=5).mean())\n",
    "\n",
    "# predicting on test data\n",
    "ypred_test = model.predict(x_test)\n",
    "\n",
    "# calculating the test r2 score\n",
    "print('Test r2 score is :',r2_score(y_test,ypred_test))"
   ]
  },
  {
   "cell_type": "code",
   "execution_count": null,
   "id": "11fbb12d-b783-4b29-9414-264d55bf5805",
   "metadata": {},
   "outputs": [],
   "source": []
  }
 ],
 "metadata": {
  "kernelspec": {
   "display_name": "Python 3 (ipykernel)",
   "language": "python",
   "name": "python3"
  },
  "language_info": {
   "codemirror_mode": {
    "name": "ipython",
    "version": 3
   },
   "file_extension": ".py",
   "mimetype": "text/x-python",
   "name": "python",
   "nbconvert_exporter": "python",
   "pygments_lexer": "ipython3",
   "version": "3.12.7"
  }
 },
 "nbformat": 4,
 "nbformat_minor": 5
}
