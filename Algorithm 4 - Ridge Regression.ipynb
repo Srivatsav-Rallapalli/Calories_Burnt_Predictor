{
 "cells": [
  {
   "cell_type": "code",
   "execution_count": 1,
   "id": "5aadd22a-a73e-46a0-b716-c73c3836feb8",
   "metadata": {},
   "outputs": [],
   "source": [
    "import pandas as pd\n",
    "\n",
    "import warnings\n",
    "warnings.simplefilter('ignore')"
   ]
  },
  {
   "cell_type": "code",
   "execution_count": 2,
   "id": "21b3dedf-7e50-45aa-b1d0-ee5577ad4656",
   "metadata": {},
   "outputs": [
    {
     "data": {
      "text/html": [
       "<div>\n",
       "<style scoped>\n",
       "    .dataframe tbody tr th:only-of-type {\n",
       "        vertical-align: middle;\n",
       "    }\n",
       "\n",
       "    .dataframe tbody tr th {\n",
       "        vertical-align: top;\n",
       "    }\n",
       "\n",
       "    .dataframe thead th {\n",
       "        text-align: right;\n",
       "    }\n",
       "</style>\n",
       "<table border=\"1\" class=\"dataframe\">\n",
       "  <thead>\n",
       "    <tr style=\"text-align: right;\">\n",
       "      <th></th>\n",
       "      <th>Age</th>\n",
       "      <th>Heart_Rate</th>\n",
       "      <th>Calories</th>\n",
       "      <th>Gender_male</th>\n",
       "    </tr>\n",
       "  </thead>\n",
       "  <tbody>\n",
       "    <tr>\n",
       "      <th>0</th>\n",
       "      <td>68</td>\n",
       "      <td>105.0</td>\n",
       "      <td>231.0</td>\n",
       "      <td>1</td>\n",
       "    </tr>\n",
       "    <tr>\n",
       "      <th>1</th>\n",
       "      <td>20</td>\n",
       "      <td>94.0</td>\n",
       "      <td>66.0</td>\n",
       "      <td>0</td>\n",
       "    </tr>\n",
       "    <tr>\n",
       "      <th>2</th>\n",
       "      <td>69</td>\n",
       "      <td>88.0</td>\n",
       "      <td>26.0</td>\n",
       "      <td>1</td>\n",
       "    </tr>\n",
       "    <tr>\n",
       "      <th>3</th>\n",
       "      <td>34</td>\n",
       "      <td>100.0</td>\n",
       "      <td>71.0</td>\n",
       "      <td>0</td>\n",
       "    </tr>\n",
       "    <tr>\n",
       "      <th>4</th>\n",
       "      <td>27</td>\n",
       "      <td>81.0</td>\n",
       "      <td>35.0</td>\n",
       "      <td>0</td>\n",
       "    </tr>\n",
       "    <tr>\n",
       "      <th>...</th>\n",
       "      <td>...</td>\n",
       "      <td>...</td>\n",
       "      <td>...</td>\n",
       "      <td>...</td>\n",
       "    </tr>\n",
       "    <tr>\n",
       "      <th>14995</th>\n",
       "      <td>20</td>\n",
       "      <td>92.0</td>\n",
       "      <td>45.0</td>\n",
       "      <td>0</td>\n",
       "    </tr>\n",
       "    <tr>\n",
       "      <th>14996</th>\n",
       "      <td>27</td>\n",
       "      <td>85.0</td>\n",
       "      <td>23.0</td>\n",
       "      <td>0</td>\n",
       "    </tr>\n",
       "    <tr>\n",
       "      <th>14997</th>\n",
       "      <td>43</td>\n",
       "      <td>90.0</td>\n",
       "      <td>75.0</td>\n",
       "      <td>0</td>\n",
       "    </tr>\n",
       "    <tr>\n",
       "      <th>14998</th>\n",
       "      <td>78</td>\n",
       "      <td>84.0</td>\n",
       "      <td>11.0</td>\n",
       "      <td>1</td>\n",
       "    </tr>\n",
       "    <tr>\n",
       "      <th>14999</th>\n",
       "      <td>63</td>\n",
       "      <td>92.0</td>\n",
       "      <td>98.0</td>\n",
       "      <td>1</td>\n",
       "    </tr>\n",
       "  </tbody>\n",
       "</table>\n",
       "<p>15000 rows × 4 columns</p>\n",
       "</div>"
      ],
      "text/plain": [
       "       Age  Heart_Rate  Calories  Gender_male\n",
       "0       68       105.0     231.0            1\n",
       "1       20        94.0      66.0            0\n",
       "2       69        88.0      26.0            1\n",
       "3       34       100.0      71.0            0\n",
       "4       27        81.0      35.0            0\n",
       "...    ...         ...       ...          ...\n",
       "14995   20        92.0      45.0            0\n",
       "14996   27        85.0      23.0            0\n",
       "14997   43        90.0      75.0            0\n",
       "14998   78        84.0      11.0            1\n",
       "14999   63        92.0      98.0            1\n",
       "\n",
       "[15000 rows x 4 columns]"
      ]
     },
     "execution_count": 2,
     "metadata": {},
     "output_type": "execute_result"
    }
   ],
   "source": [
    "# Importing the Dataset\n",
    "\n",
    "df = pd.read_csv(r'clean.csv')\n",
    "df"
   ]
  },
  {
   "cell_type": "code",
   "execution_count": 3,
   "id": "d8907a8e-91f6-4bfb-b4e5-39b8327880d4",
   "metadata": {},
   "outputs": [],
   "source": [
    "# Seperating the Dependent and Independent variables.\n",
    "\n",
    "X = df.drop(columns=['Calories'])\n",
    "y = df['Calories']"
   ]
  },
  {
   "cell_type": "code",
   "execution_count": 4,
   "id": "bc378a40-74f3-40e7-829d-2432e4647d27",
   "metadata": {},
   "outputs": [],
   "source": [
    "# Splitting the data into Train and Test\n",
    "from sklearn.model_selection import train_test_split\n",
    "\n",
    "x_train,x_test,y_train,y_test = train_test_split(X,y,random_state=42,train_size=0.8)"
   ]
  },
  {
   "cell_type": "code",
   "execution_count": 7,
   "id": "66451588-ddc2-40ea-954d-fe540312cd62",
   "metadata": {},
   "outputs": [
    {
     "data": {
      "text/plain": [
       "{'alpha': 299}"
      ]
     },
     "execution_count": 7,
     "metadata": {},
     "output_type": "execute_result"
    }
   ],
   "source": [
    "# Apply HyperParameter Tunning on Ridge Regression\n",
    "\n",
    "from sklearn.model_selection import GridSearchCV\n",
    "from sklearn.linear_model import Ridge\n",
    "\n",
    "estimator = Ridge()\n",
    "\n",
    "param_grid = {'alpha':list(range(1,300))}\n",
    "\n",
    "grid = GridSearchCV(estimator,param_grid,cv=5,scoring='r2')\n",
    "grid.fit(x_train,y_train)\n",
    "grid.best_params_"
   ]
  },
  {
   "cell_type": "markdown",
   "id": "f899a3da-8d22-4412-814a-2fc9a88f5b39",
   "metadata": {},
   "source": [
    "The alpha value is as below \n",
    "\n",
    "- Between range(1,100) - 99\n",
    "- Between range(1,200) - 199\n",
    "- Between range(1,300) - 299\n",
    "- So that, we can choose the default alpha value of 1"
   ]
  },
  {
   "cell_type": "code",
   "execution_count": 8,
   "id": "8c6352cb-5584-496a-b36f-07ced4c15b22",
   "metadata": {},
   "outputs": [
    {
     "name": "stdout",
     "output_type": "stream",
     "text": [
      "Intercept is : -491.2610492184658\n",
      "Coefficients are : [0.52525312 5.83770105 1.127168  ]\n"
     ]
    }
   ],
   "source": [
    "# Build the Ridge Regression model with alpha = 1\n",
    "\n",
    "model = Ridge(alpha=1)\n",
    "model.fit(x_train,y_train)\n",
    "\n",
    "print('Intercept is :',model.intercept_)\n",
    "print('Coefficients are :',model.coef_)"
   ]
  },
  {
   "cell_type": "code",
   "execution_count": 9,
   "id": "7acff338-0534-431a-a55f-31efbd52e7b7",
   "metadata": {},
   "outputs": [
    {
     "name": "stdout",
     "output_type": "stream",
     "text": [
      "Train r2 score is : 0.825934809010672\n",
      "Cross validation score is : 0.8253414916888169\n",
      "Test r2 score is : 0.8325080483280156\n"
     ]
    }
   ],
   "source": [
    "# Predicting on Train data\n",
    "ypred_train = model.predict(x_train)\n",
    "\n",
    "# Calculating the Train r2 score and Cross Validation Score\n",
    "from sklearn.metrics import r2_score\n",
    "from sklearn.model_selection import cross_val_score\n",
    "\n",
    "print('Train r2 score is :',r2_score(y_train,ypred_train))\n",
    "print('Cross validation score is :',cross_val_score(model,x_train,y_train,cv=5).mean())\n",
    "\n",
    "# Predicting on Test data\n",
    "ypred_test = model.predict(x_test)\n",
    "\n",
    "# Calculating the Test r2 score\n",
    "print('Test r2 score is :',r2_score(y_test,ypred_test))"
   ]
  },
  {
   "cell_type": "code",
   "execution_count": null,
   "id": "4d214630-b3bd-4a97-9e72-5ef40ee094cf",
   "metadata": {},
   "outputs": [],
   "source": []
  }
 ],
 "metadata": {
  "kernelspec": {
   "display_name": "Python 3 (ipykernel)",
   "language": "python",
   "name": "python3"
  },
  "language_info": {
   "codemirror_mode": {
    "name": "ipython",
    "version": 3
   },
   "file_extension": ".py",
   "mimetype": "text/x-python",
   "name": "python",
   "nbconvert_exporter": "python",
   "pygments_lexer": "ipython3",
   "version": "3.12.7"
  }
 },
 "nbformat": 4,
 "nbformat_minor": 5
}
