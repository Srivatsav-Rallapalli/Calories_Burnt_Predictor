{
 "cells": [
  {
   "cell_type": "code",
   "execution_count": 1,
   "id": "c7978273-b7fc-4c0c-ac3b-94b04cd98acd",
   "metadata": {},
   "outputs": [],
   "source": [
    "import pandas as pd\n",
    "\n",
    "import warnings\n",
    "warnings.simplefilter('ignore')"
   ]
  },
  {
   "cell_type": "code",
   "execution_count": 2,
   "id": "6a5ac330-5db8-42c7-b3cf-5104ae8d38fe",
   "metadata": {},
   "outputs": [
    {
     "data": {
      "text/html": [
       "<div>\n",
       "<style scoped>\n",
       "    .dataframe tbody tr th:only-of-type {\n",
       "        vertical-align: middle;\n",
       "    }\n",
       "\n",
       "    .dataframe tbody tr th {\n",
       "        vertical-align: top;\n",
       "    }\n",
       "\n",
       "    .dataframe thead th {\n",
       "        text-align: right;\n",
       "    }\n",
       "</style>\n",
       "<table border=\"1\" class=\"dataframe\">\n",
       "  <thead>\n",
       "    <tr style=\"text-align: right;\">\n",
       "      <th></th>\n",
       "      <th>Age</th>\n",
       "      <th>Heart_Rate</th>\n",
       "      <th>Calories</th>\n",
       "      <th>Gender_male</th>\n",
       "    </tr>\n",
       "  </thead>\n",
       "  <tbody>\n",
       "    <tr>\n",
       "      <th>0</th>\n",
       "      <td>68</td>\n",
       "      <td>105.0</td>\n",
       "      <td>231.0</td>\n",
       "      <td>1</td>\n",
       "    </tr>\n",
       "    <tr>\n",
       "      <th>1</th>\n",
       "      <td>20</td>\n",
       "      <td>94.0</td>\n",
       "      <td>66.0</td>\n",
       "      <td>0</td>\n",
       "    </tr>\n",
       "    <tr>\n",
       "      <th>2</th>\n",
       "      <td>69</td>\n",
       "      <td>88.0</td>\n",
       "      <td>26.0</td>\n",
       "      <td>1</td>\n",
       "    </tr>\n",
       "    <tr>\n",
       "      <th>3</th>\n",
       "      <td>34</td>\n",
       "      <td>100.0</td>\n",
       "      <td>71.0</td>\n",
       "      <td>0</td>\n",
       "    </tr>\n",
       "    <tr>\n",
       "      <th>4</th>\n",
       "      <td>27</td>\n",
       "      <td>81.0</td>\n",
       "      <td>35.0</td>\n",
       "      <td>0</td>\n",
       "    </tr>\n",
       "    <tr>\n",
       "      <th>...</th>\n",
       "      <td>...</td>\n",
       "      <td>...</td>\n",
       "      <td>...</td>\n",
       "      <td>...</td>\n",
       "    </tr>\n",
       "    <tr>\n",
       "      <th>14995</th>\n",
       "      <td>20</td>\n",
       "      <td>92.0</td>\n",
       "      <td>45.0</td>\n",
       "      <td>0</td>\n",
       "    </tr>\n",
       "    <tr>\n",
       "      <th>14996</th>\n",
       "      <td>27</td>\n",
       "      <td>85.0</td>\n",
       "      <td>23.0</td>\n",
       "      <td>0</td>\n",
       "    </tr>\n",
       "    <tr>\n",
       "      <th>14997</th>\n",
       "      <td>43</td>\n",
       "      <td>90.0</td>\n",
       "      <td>75.0</td>\n",
       "      <td>0</td>\n",
       "    </tr>\n",
       "    <tr>\n",
       "      <th>14998</th>\n",
       "      <td>78</td>\n",
       "      <td>84.0</td>\n",
       "      <td>11.0</td>\n",
       "      <td>1</td>\n",
       "    </tr>\n",
       "    <tr>\n",
       "      <th>14999</th>\n",
       "      <td>63</td>\n",
       "      <td>92.0</td>\n",
       "      <td>98.0</td>\n",
       "      <td>1</td>\n",
       "    </tr>\n",
       "  </tbody>\n",
       "</table>\n",
       "<p>15000 rows × 4 columns</p>\n",
       "</div>"
      ],
      "text/plain": [
       "       Age  Heart_Rate  Calories  Gender_male\n",
       "0       68       105.0     231.0            1\n",
       "1       20        94.0      66.0            0\n",
       "2       69        88.0      26.0            1\n",
       "3       34       100.0      71.0            0\n",
       "4       27        81.0      35.0            0\n",
       "...    ...         ...       ...          ...\n",
       "14995   20        92.0      45.0            0\n",
       "14996   27        85.0      23.0            0\n",
       "14997   43        90.0      75.0            0\n",
       "14998   78        84.0      11.0            1\n",
       "14999   63        92.0      98.0            1\n",
       "\n",
       "[15000 rows x 4 columns]"
      ]
     },
     "execution_count": 2,
     "metadata": {},
     "output_type": "execute_result"
    }
   ],
   "source": [
    "# Importing the Dataset\n",
    "\n",
    "df = pd.read_csv(r'clean.csv')\n",
    "df"
   ]
  },
  {
   "cell_type": "code",
   "execution_count": 3,
   "id": "238fb4c8-df37-4ff2-bee8-9c6f413ed7b4",
   "metadata": {},
   "outputs": [],
   "source": [
    "# Seperating the Dependent and Independent variables\n",
    "\n",
    "X = df.drop(columns=['Calories'])\n",
    "y = df['Calories']"
   ]
  },
  {
   "cell_type": "code",
   "execution_count": 4,
   "id": "b8090832-9c18-453f-8d54-c6fadeb4ca8e",
   "metadata": {},
   "outputs": [],
   "source": [
    "# Spplitting the data into Train and Test\n",
    "from sklearn.model_selection import train_test_split\n",
    "\n",
    "x_train,x_test,y_train,y_test = train_test_split(X,y,random_state=42,train_size=0.8)"
   ]
  },
  {
   "cell_type": "code",
   "execution_count": 6,
   "id": "6f498981-cbd9-4d44-85f3-fd58e94e0416",
   "metadata": {},
   "outputs": [
    {
     "data": {
      "text/plain": [
       "{'n_estimators': 47}"
      ]
     },
     "execution_count": 6,
     "metadata": {},
     "output_type": "execute_result"
    }
   ],
   "source": [
    "# Building the Model using Random Forest Regressor\n",
    "# Apply HyperParameter Tunning to find the  n_estimators\n",
    "\n",
    "from sklearn.ensemble import RandomForestRegressor\n",
    "from sklearn.model_selection import GridSearchCV\n",
    "\n",
    "estimator = RandomForestRegressor(random_state=True)\n",
    "\n",
    "param_grid = {'n_estimators':list(range(1,50))}\n",
    "\n",
    "grid = GridSearchCV(estimator,param_grid,cv=5,scoring='r2')\n",
    "grid.fit(x_train,y_train)\n",
    "grid.best_params_"
   ]
  },
  {
   "cell_type": "code",
   "execution_count": 8,
   "id": "cc8e7ec3-b243-46ed-9288-ee95e949f2c5",
   "metadata": {},
   "outputs": [
    {
     "data": {
      "text/plain": [
       "['Age', 'Heart_Rate', 'Gender_male']"
      ]
     },
     "execution_count": 8,
     "metadata": {},
     "output_type": "execute_result"
    }
   ],
   "source": [
    "features = pd.DataFrame(data=model.feature_importances_,columns=['Importances'],index=x_train.columns)\n",
    "\n",
    "imp_feat = features[features['Importances']>0].index.tolist()\n",
    "imp_feat"
   ]
  },
  {
   "cell_type": "code",
   "execution_count": 7,
   "id": "9f5f961f-474a-475d-ba0e-c0119fdf02eb",
   "metadata": {},
   "outputs": [
    {
     "name": "stdout",
     "output_type": "stream",
     "text": [
      "Train r2 score is ; 0.9075848804887544\n",
      "Cross validation score is : 0.8240990498890517\n",
      "Test r2 score is : 0.8426947117912198\n"
     ]
    }
   ],
   "source": [
    "# Building the model with best estimator\n",
    "\n",
    "model = grid.best_estimator_\n",
    "model.fit(x_train,y_train)\n",
    "\n",
    "# Predicting on Train Data\n",
    "ypred_train = model.predict(x_train)\n",
    "\n",
    "# Calculating the Train r2 score and Cross Validation score\n",
    "from sklearn.metrics import r2_score\n",
    "from sklearn.model_selection import cross_val_score\n",
    "\n",
    "print('Train r2 score is ;',r2_score(y_train,ypred_train))\n",
    "print('Cross validation score is :',cross_val_score(model,x_train,y_train,cv=5).mean())\n",
    "\n",
    "# Predicting on Test Data\n",
    "ypred_test = model.predict(x_test)\n",
    "\n",
    "# Calculating the Test r2 score \n",
    "print('Test r2 score is :',r2_score(y_test,ypred_test))"
   ]
  },
  {
   "cell_type": "code",
   "execution_count": null,
   "id": "e83e505d-d919-4649-9969-f95486e95a76",
   "metadata": {},
   "outputs": [],
   "source": []
  }
 ],
 "metadata": {
  "kernelspec": {
   "display_name": "Python 3 (ipykernel)",
   "language": "python",
   "name": "python3"
  },
  "language_info": {
   "codemirror_mode": {
    "name": "ipython",
    "version": 3
   },
   "file_extension": ".py",
   "mimetype": "text/x-python",
   "name": "python",
   "nbconvert_exporter": "python",
   "pygments_lexer": "ipython3",
   "version": "3.12.7"
  }
 },
 "nbformat": 4,
 "nbformat_minor": 5
}
